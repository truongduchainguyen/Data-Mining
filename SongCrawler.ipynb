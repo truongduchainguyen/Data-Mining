{
 "cells": [
  {
   "cell_type": "markdown",
   "id": "9a6c88a3",
   "metadata": {},
   "source": [
    "Notebook này dùng ds101 là đủ\n",
    "\n",
    "Dự kiến sẽ viết thành .py\n",
    "\n",
    "TODO:\n",
    "- Viết hàm download\n",
    "- Xử lí Duplicate (có thể dùng pandas)"
   ]
  },
  {
   "cell_type": "code",
   "execution_count": null,
   "id": "93c53df5",
   "metadata": {},
   "outputs": [],
   "source": [
    "import numpy as np\n",
    "import pandas as pd\n",
    "from bs4 import BeautifulSoup\n",
    "from selenium import webdriver\n",
    "import urllib3\n",
    "import os\n",
    "import time\n",
    "import requests"
   ]
  },
  {
   "cell_type": "code",
   "execution_count": 3,
   "id": "5f204029",
   "metadata": {},
   "outputs": [],
   "source": [
    "def getSongLinks(country, tab, start_page=1, end_page=20):\n",
    "    '''\n",
    "    Trả về danh sách link tới các bài hát cụ thể để nghe nhạc.\n",
    "    \n",
    "    Tham số:\n",
    "        @country: Thể loại nhạc theo tên quốc gia\n",
    "        @tab: Tab của trang web: album-2021, album-moi, bai-hat-moi, vua-download\n",
    "        @start_page: Giới hạn bên trái của trang thể hiện bài hát (def=1)\n",
    "        @end_page: Giới hạn bên phải của trang thể hiện bài hát (def=20)\n",
    "    \n",
    "    Lưu ý:\n",
    "        Với mỗi tab `vua-download` và `bao-hat-moi`\n",
    "        sẽ chỉ crawl được trang thuộc [1; 19].\n",
    "        Trang 19+ không crawl được, đừng để bị số lượng trang lừa ¯_(ツ)_/¯\n",
    "    \n",
    "    '''\n",
    "    driver = webdriver.Chrome(\"chromedriver_win32/chromedriver\")\n",
    "    URL = \"https://www.chiasenhac.vn/mp3/\" + country + \".html?tab=\" + tab\n",
    "    arr = np.arange(start_page, end_page)\n",
    "    save_path = 'data/'\n",
    "    link_list = []\n",
    "\n",
    "    for i in arr:\n",
    "        driver.get(URL + \"&page=\" + str(i))\n",
    "        main = driver.find_element_by_class_name('content-current')\n",
    "        songs = main.find_elements_by_css_selector('.media.align-items-stretch.not')\n",
    "        for song in songs:\n",
    "            a = song.find_element_by_tag_name(\"a\")\n",
    "            link = a.get_attribute(\"href\")\n",
    "            link_list.append(link)\n",
    "\n",
    "    driver.close()\n",
    "    return link_list"
   ]
  },
  {
   "cell_type": "code",
   "execution_count": 4,
   "id": "9d973ba4",
   "metadata": {},
   "outputs": [],
   "source": [
    "def getSongInfo(link_list):\n",
    "    '''\n",
    "    Trả về danh sách thông tin sau của bài hát theo dạng tuple:\n",
    "    1. Title\n",
    "    2. Artist\n",
    "    3. Link bài hát\n",
    "    4. Link .m4a\n",
    "    5. Link .mp3\n",
    "    '''\n",
    "    song_info_list = []\n",
    "    \n",
    "    for url in link_list:\n",
    "        page = requests.get(url)\n",
    "        soup = BeautifulSoup(page.content, 'html.parser')\n",
    "        # lấy Title và Artist\n",
    "        name = soup.find(class_=\"d-flex justify-content-between mb-3 box1 music-listen-title\")\n",
    "        name = name.h1.text.split(\" - \")\n",
    "        title = name[0]\n",
    "        artist = name[1]\n",
    "\n",
    "        # lấy link tải m4a và mp3\n",
    "        download_div = soup.find(id=\"pills-download\")\n",
    "        download_items = download_div.find_all(\"a\", class_=\"download_item\", href=True)\n",
    "        m4a_link = download_items[0]['href']\n",
    "        mp3_link = download_items[1]['href']\n",
    "\n",
    "        # Thêm bài hát vào danh sách\n",
    "        song_info_list.append((title, artist, url, m4a_link, mp3_link))\n",
    "        \n",
    "    return song_info_list"
   ]
  },
  {
   "cell_type": "code",
   "execution_count": 29,
   "id": "42878ff0",
   "metadata": {},
   "outputs": [],
   "source": [
    "def writeInfoToCSV(csv_path, song_info_list, remove_duplicate=False):\n",
    "    '''\n",
    "    Viết thông tin vào 1 file csv, hàm sẽ tạo file mới nếu file chưa tồn tại.\n",
    "    \n",
    "    Tham số:\n",
    "        @csv_path: Đường dẫn tới file .csv\n",
    "        @song_info_list: danh sách các tuple info\n",
    "        @remove_duplicate: xóa các bài hát bị trùng (def=False)\n",
    "        \n",
    "    TODO: viết tính năng remove_duplicate\n",
    "    '''\n",
    "    # Tạo file .csv nếu chưa tồn tại\n",
    "    if os.path.exists(csv_path) is not True:\n",
    "        # Make a new list\n",
    "        print(\"Making new file: \" + csv_path)\n",
    "        os.makedirs(os.path.dirname(csv_path), exist_ok=True)\n",
    "        with open(csv_path, \"w\") as f:\n",
    "            f.write(\"Title,Artist,Link,.m4a,.mp3\\n\")\n",
    "        f.close\n",
    "    else:\n",
    "        print(csv_path + \" already exists, append new lines\")\n",
    "    \n",
    "    # Viết info vào file .csv\n",
    "    file = open(csv_path, 'a', encoding=\"utf-8\")\n",
    "    for i in range(len(song_info_list)):\n",
    "        title = song_info_list[i][0]\n",
    "        artist = song_info_list[i][1]\n",
    "        url = song_info_list[i][2]\n",
    "        m4a_link = song_info_list[i][3]\n",
    "        mp3_link = song_info_list[i][4]\n",
    "        file.write('{},{},{},{},{}\\n'.format(title,artist,url,m4a_link,mp3_link))\n",
    "    file.close()"
   ]
  },
  {
   "cell_type": "markdown",
   "id": "64702b03",
   "metadata": {},
   "source": [
    "## Điều chỉnh thông số tại đây"
   ]
  },
  {
   "cell_type": "code",
   "execution_count": 30,
   "id": "0c0f4d06",
   "metadata": {},
   "outputs": [],
   "source": [
    "country = \"us-uk\"\n",
    "tab = \"vua-download\"\n",
    "csv_path = \"data/song_info.csv\""
   ]
  },
  {
   "cell_type": "code",
   "execution_count": 6,
   "id": "d0bc8ed1",
   "metadata": {},
   "outputs": [],
   "source": [
    "# Lấy link\n",
    "link_list = getSongLinks(country, tab)\n",
    "print(link_list)"
   ]
  },
  {
   "cell_type": "code",
   "execution_count": null,
   "id": "f3dc6b8a",
   "metadata": {},
   "outputs": [],
   "source": [
    "# Trích xuất info vào: list[tuple]\n",
    "song_info_list = getSongInfo(link_list)"
   ]
  },
  {
   "cell_type": "code",
   "execution_count": 7,
   "id": "d34f2a24",
   "metadata": {},
   "outputs": [],
   "source": [
    "# Viết file vào trong .csv\n",
    "writeInfoToCSV(csv_path,song_info_list)"
   ]
  }
 ],
 "metadata": {
  "kernelspec": {
   "display_name": "Python 3",
   "language": "python",
   "name": "python3"
  },
  "language_info": {
   "codemirror_mode": {
    "name": "ipython",
    "version": 3
   },
   "file_extension": ".py",
   "mimetype": "text/x-python",
   "name": "python",
   "nbconvert_exporter": "python",
   "pygments_lexer": "ipython3",
   "version": "3.7.7"
  }
 },
 "nbformat": 4,
 "nbformat_minor": 5
}
