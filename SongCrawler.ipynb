{
 "cells": [
  {
   "cell_type": "markdown",
   "id": "94220163",
   "metadata": {},
   "source": [
    "Notebook này dùng ds101 là đủ\n",
    "\n",
    "Dự kiến sẽ viết thành .py\n",
    "\n",
    "TODO:\n",
    "- Viết hàm download\n",
    "- Xử lí Duplicate (có thể dùng pandas)"
   ]
  },
  {
   "cell_type": "code",
   "execution_count": 30,
   "id": "c66cf45b",
   "metadata": {},
   "outputs": [],
   "source": [
    "import numpy as np\n",
    "import pandas as pd\n",
    "from bs4 import BeautifulSoup\n",
    "from selenium import webdriver\n",
    "import urllib3\n",
    "import os\n",
    "import time\n",
    "import requests\n",
    "from pathlib import Path"
   ]
  },
  {
   "cell_type": "code",
   "execution_count": 31,
   "id": "f5b06bcd",
   "metadata": {},
   "outputs": [],
   "source": [
    "#download link using requests\n",
    "def downloadSong(save_location, url_list, last_index=0):\n",
    "    for link in url_list:\n",
    "        start = time.time()\n",
    "        file_name = link.split('/')[-1].replace(\"%20\",\"\")\n",
    "\n",
    "        print(\"Downloading file:%s\"%file_name)  \n",
    "        r = requests.get(link, stream = True)  \n",
    "\n",
    "        #check if file is exist\n",
    "        if(Path(save_location+file_name).is_file()):\n",
    "            print(\"Song is already exist\")\n",
    "        else:\n",
    "            # download started  \n",
    "            with open(save_location+file_name, 'wb') as f:  \n",
    "                for chunk in r.iter_content(chunk_size = 1024*1024):  \n",
    "                    if chunk:  \n",
    "                        f.write(chunk)\n",
    "            print(\"%s downloaded!\\n\"%file_name)\n",
    "        delay = time.time() - start\n",
    "        time.sleep(2*delay)\n",
    "\n",
    "    print (\"All songs downloaded!\")"
   ]
  },
  {
   "cell_type": "code",
   "execution_count": 32,
   "id": "e274b770",
   "metadata": {},
   "outputs": [],
   "source": [
    "def getSongLinks(country, tab, start_page=1, end_page=20):\n",
    "    '''\n",
    "    Trả về danh sách link tới các bài hát cụ thể để nghe nhạc.\n",
    "    \n",
    "    Tham số:\n",
    "        @country: Thể loại nhạc theo tên quốc gia\n",
    "        @tab: Tab của trang web: album-2021, album-moi, bai-hat-moi, vua-download\n",
    "        @start_page: Giới hạn bên trái của trang thể hiện bài hát (def=1)\n",
    "        @end_page: Giới hạn bên phải của trang thể hiện bài hát (def=20)\n",
    "    \n",
    "    Lưu ý:\n",
    "        Với mỗi tab `vua-download` và `bai-hat-moi`\n",
    "        sẽ chỉ crawl được trang thuộc [1; 19].\n",
    "        Trang 19+ không crawl được, đừng để bị số lượng trang lừa ¯_(ツ)_/¯\n",
    "    \n",
    "    '''\n",
    "    driver = webdriver.Chrome(\"chromedriver_win32/chromedriver\") #\n",
    "    URL = \"https://www.chiasenhac.vn/mp3/\" + country + \".html?tab=\" + tab\n",
    "    arr = np.arange(start_page, end_page)\n",
    "    save_path = 'data/'\n",
    "    link_list = []\n",
    "\n",
    "    for i in arr:\n",
    "        driver.get(URL + \"&page=\" + str(i))\n",
    "        main = driver.find_element_by_class_name('content-current')\n",
    "        songs = main.find_elements_by_css_selector('.media.align-items-stretch.not')\n",
    "        for song in songs:\n",
    "            a = song.find_element_by_tag_name(\"a\")\n",
    "            link = a.get_attribute(\"href\")\n",
    "            link_list.append(link)\n",
    "\n",
    "    driver.close()\n",
    "    return link_list"
   ]
  },
  {
   "cell_type": "code",
   "execution_count": 33,
   "id": "47833ebf",
   "metadata": {},
   "outputs": [],
   "source": [
    "def getSongInfo(link_list):\n",
    "    '''\n",
    "    Trả về DataFrame danh sách các bài hát:\n",
    "    1. Title\n",
    "    2. Artist\n",
    "    3. Link bài hát\n",
    "    4. Link .m4a\n",
    "    5. Link .mp3\n",
    "    '''\n",
    "    df_headers = [\"Title\", \"Artist\", \"Link bài hát\", \"Link .m4a\", \"Link .mp3\"]\n",
    "    song_info_list = []\n",
    "    \n",
    "    for url in link_list:\n",
    "        page = requests.get(url)\n",
    "        soup = BeautifulSoup(page.content, 'html.parser')\n",
    "        # lấy Title và Artist\n",
    "        name = soup.find(class_=\"d-flex justify-content-between mb-3 box1 music-listen-title\")\n",
    "        name = name.h1.text.split(\" - \")\n",
    "        title = name[0]\n",
    "        artist = name[1]\n",
    "\n",
    "        # lấy link tải m4a và mp3\n",
    "        download_div = soup.find(id=\"pills-download\")\n",
    "        download_items = download_div.find_all(\"a\", class_=\"download_item\", href=True)\n",
    "        m4a_link = download_items[0]['href']\n",
    "        mp3_link = download_items[1]['href']\n",
    "\n",
    "        # Thêm bài hát vào danh sách\n",
    "        song_info_list.append((title, artist, url, m4a_link, mp3_link))\n",
    "        \n",
    "    return pd.DataFrame(song_info_list, columns=df_headers)"
   ]
  },
  {
   "cell_type": "markdown",
   "id": "d739c5cc",
   "metadata": {},
   "source": [
    "## Điều chỉnh thông số tại đây"
   ]
  },
  {
   "cell_type": "code",
   "execution_count": 34,
   "id": "020a15a9",
   "metadata": {},
   "outputs": [],
   "source": [
    "country = \"vietnam/v-pop\"\n",
    "tab = \"bai-hat-moi\" # vua-download\n",
    "csv_path = \"data/{}_{}.csv\".format(country,tab)\n",
    "save_location = \"songs/\""
   ]
  },
  {
   "cell_type": "code",
   "execution_count": null,
   "id": "3ede56f0",
   "metadata": {},
   "outputs": [],
   "source": [
    "# Lấy link\n",
    "link_list = getSongLinks(country, tab)"
   ]
  },
  {
   "cell_type": "code",
   "execution_count": null,
   "id": "e86c0c00",
   "metadata": {},
   "outputs": [],
   "source": [
    "print(\"Số bài hát: \" + str(len(link_list)))"
   ]
  },
  {
   "cell_type": "code",
   "execution_count": null,
   "id": "7926b3de",
   "metadata": {},
   "outputs": [],
   "source": [
    "# Trích xuất info thanh dataframe\n",
    "df = getSongInfo(link_list)"
   ]
  },
  {
   "cell_type": "code",
   "execution_count": null,
   "id": "c045f215",
   "metadata": {},
   "outputs": [],
   "source": [
    "df.info()"
   ]
  },
  {
   "cell_type": "code",
   "execution_count": null,
   "id": "2bdc3a7b",
   "metadata": {},
   "outputs": [],
   "source": [
    "# Xóa phần tử trùng theo: Title && Artist\n",
    "df_new = df.drop_duplicates(subset=[\"Title\",\"Artist\"])"
   ]
  },
  {
   "cell_type": "code",
   "execution_count": null,
   "id": "b835e4ec",
   "metadata": {},
   "outputs": [],
   "source": [
    "df_new.info()"
   ]
  },
  {
   "cell_type": "code",
   "execution_count": null,
   "id": "3030f516",
   "metadata": {},
   "outputs": [],
   "source": [
    "# Viết info vào trong .csv ('w': overwrite, 'a': append)\n",
    "df_new.to_csv(csv_path, index=False, mode='w')"
   ]
  },
  {
   "cell_type": "code",
   "execution_count": null,
   "id": "64980e0c",
   "metadata": {},
   "outputs": [],
   "source": [
    "downloadSong(save_location, url_list)"
   ]
  },
  {
   "cell_type": "code",
   "execution_count": null,
   "id": "a9d63eef",
   "metadata": {},
   "outputs": [],
   "source": []
  }
 ],
 "metadata": {
  "kernelspec": {
   "display_name": "Python 3",
   "language": "python",
   "name": "python3"
  },
  "language_info": {
   "codemirror_mode": {
    "name": "ipython",
    "version": 3
   },
   "file_extension": ".py",
   "mimetype": "text/x-python",
   "name": "python",
   "nbconvert_exporter": "python",
   "pygments_lexer": "ipython3",
   "version": "3.7.7"
  }
 },
 "nbformat": 4,
 "nbformat_minor": 5
}
