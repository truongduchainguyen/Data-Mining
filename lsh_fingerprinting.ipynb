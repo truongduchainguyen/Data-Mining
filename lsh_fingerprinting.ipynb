{
 "cells": [
  {
   "cell_type": "markdown",
   "metadata": {},
   "source": [
    "# Music Fingerprinting using Locality Sensitive Hashing"
   ]
  },
  {
   "cell_type": "markdown",
   "metadata": {},
   "source": [
    "This notebook shows a simple system for performing retrieval of musical tracks using LSH."
   ]
  },
  {
   "cell_type": "markdown",
   "metadata": {},
   "source": [
    "Import libraries:"
   ]
  },
  {
   "cell_type": "code",
   "execution_count": 1,
   "metadata": {},
   "outputs": [],
   "source": [
    "import librosa\n",
    "import os\n",
    "import os.path\n",
    "import numpy as np\n",
    "import matplotlib.pyplot as plt\n",
    "import pydub"
   ]
  },
  {
   "cell_type": "markdown",
   "metadata": {},
   "source": [
    "Set figure size:"
   ]
  },
  {
   "cell_type": "code",
   "execution_count": 2,
   "metadata": {},
   "outputs": [],
   "source": [
    "plt.rcParams['figure.figsize'] = (15, 5)"
   ]
  },
  {
   "cell_type": "markdown",
   "metadata": {},
   "source": [
    "Select training data:"
   ]
  },
  {
   "cell_type": "code",
   "execution_count": 50,
   "metadata": {},
   "outputs": [],
   "source": [
    "# training_dir = 'D:/Google Drive/Data Mining/songs/'\n",
    "training_files = 'audio1.wav'\n",
    "# training_files = [os.path.join(training_dir, f) for f in os.listdir(training_dir)]"
   ]
  },
  {
   "cell_type": "markdown",
   "metadata": {},
   "source": [
    "Define a hash function:"
   ]
  },
  {
   "cell_type": "code",
   "execution_count": 51,
   "metadata": {},
   "outputs": [],
   "source": [
    "def hash_func(vecs, projections):\n",
    "    bools = np.dot(vecs, projections.T) > 0\n",
    "    return [bool2int(bool_vec) for bool_vec in bools]"
   ]
  },
  {
   "cell_type": "code",
   "execution_count": 52,
   "metadata": {},
   "outputs": [],
   "source": [
    "def bool2int(x):\n",
    "    y = 0\n",
    "    for i,j in enumerate(x):\n",
    "        if j: y += 1<<i\n",
    "    return y"
   ]
  },
  {
   "cell_type": "code",
   "execution_count": 53,
   "metadata": {},
   "outputs": [
    {
     "data": {
      "text/plain": [
       "10"
      ]
     },
     "execution_count": 53,
     "metadata": {},
     "output_type": "execute_result"
    }
   ],
   "source": [
    "bool2int([False, True, False, True])"
   ]
  },
  {
   "cell_type": "code",
   "execution_count": 54,
   "metadata": {},
   "outputs": [
    {
     "data": {
      "text/plain": [
       "[5, 3, 2, 5, 0, 7, 5, 1, 2, 1]"
      ]
     },
     "execution_count": 54,
     "metadata": {},
     "output_type": "execute_result"
    }
   ],
   "source": [
    "X = np.random.randn(10,100)\n",
    "P = np.random.randn(3,100)\n",
    "hash_func(X, P)"
   ]
  },
  {
   "cell_type": "markdown",
   "metadata": {},
   "source": [
    "### Create three LSH structures: Table, LSH, and MusicSearch:"
   ]
  },
  {
   "cell_type": "code",
   "execution_count": 55,
   "metadata": {},
   "outputs": [],
   "source": [
    "class Table:\n",
    "    \n",
    "    def __init__(self, hash_size, dim):\n",
    "        self.table = dict()\n",
    "        self.hash_size = hash_size\n",
    "        self.projections = np.random.randn(self.hash_size, dim)\n",
    "\n",
    "    def add(self, vecs, label):\n",
    "        entry = {'label': label}\n",
    "        hashes = hash_func(vecs, self.projections)\n",
    "        for h in hashes:\n",
    "            if self.table.__contains__(h):\n",
    "                self.table[h].append(entry)\n",
    "            else:\n",
    "                self.table[h] = [entry]\n",
    "\n",
    "    def query(self, vecs):\n",
    "        hashes = hash_func(vecs, self.projections)\n",
    "        results = list()\n",
    "        for h in hashes:\n",
    "            if self.table.__contains__(h):\n",
    "                results.extend(self.table[h])\n",
    "        return results"
   ]
  },
  {
   "cell_type": "code",
   "execution_count": 56,
   "metadata": {},
   "outputs": [],
   "source": [
    "class LSH:\n",
    "    \n",
    "    def __init__(self, dim):\n",
    "        self.num_tables = 4\n",
    "        self.hash_size = 8\n",
    "        self.tables = list()\n",
    "        for i in range(self.num_tables):\n",
    "            self.tables.append(Table(self.hash_size, dim))\n",
    "    \n",
    "    def add(self, vecs, label):\n",
    "        for table in self.tables:\n",
    "            table.add(vecs, label)\n",
    "    \n",
    "    def query(self, vecs):\n",
    "        results = list()\n",
    "        for table in self.tables:\n",
    "            results.extend(table.query(vecs))\n",
    "        return results\n",
    "\n",
    "    def describe(self):\n",
    "        for table in self.tables:\n",
    "            print(table.table)"
   ]
  },
  {
   "cell_type": "code",
   "execution_count": 57,
   "metadata": {},
   "outputs": [],
   "source": [
    "class MusicSearch:\n",
    "    \n",
    "    def __init__(self, training_files):\n",
    "        self.frame_size = 4096\n",
    "        self.hop_size = 4000\n",
    "        self.fv_size = 12\n",
    "        self.lsh = LSH(self.fv_size)\n",
    "        self.training_files = training_files\n",
    "        self.num_features_in_file = dict()\n",
    "        for f in self.training_files:\n",
    "            self.num_features_in_file[f] = 0\n",
    "                \n",
    "    def train(self):\n",
    "#         for filepath in self.training_files:\n",
    "        filepath = \"audio1.wav\"\n",
    "        x, fs = librosa.load(filepath)\n",
    "        print(x.shape, fs)\n",
    "        features = librosa.feature.chroma_stft(x, fs, n_fft=self.frame_size, hop_length=self.hop_size).T\n",
    "        print(self.num_features_in_file)\n",
    "        self.lsh.add(features, filepath)\n",
    "        self.num_features_in_file[filepath] += len(features)\n",
    "                \n",
    "    def query(self, filepath):\n",
    "        x, fs = librosa.load(filepath)\n",
    "        features = librosa.feature.chroma_stft(x, fs, n_fft=self.frame_size, hop_length=self.hop_size).T\n",
    "        results = self.lsh.query(features)\n",
    "        print('num results', len(results))\n",
    "\n",
    "        counts = dict()\n",
    "        for r in results:\n",
    "            if counts.__contains__(r['label']):\n",
    "                counts[r['label']] += 1\n",
    "            else:\n",
    "                counts[r['label']] = 1\n",
    "        for k in counts:\n",
    "            counts[k] = float(counts[k])/self.num_features_in_file[k]\n",
    "        return counts\n"
   ]
  },
  {
   "cell_type": "markdown",
   "metadata": {},
   "source": [
    "Train:"
   ]
  },
  {
   "cell_type": "code",
   "execution_count": 58,
   "metadata": {},
   "outputs": [
    {
     "name": "stdout",
     "output_type": "stream",
     "text": [
      "(3661824,) 22050\n",
      "{'a': 0, 'u': 0, 'd': 0, 'i': 0, 'o': 0, '1': 0, '.': 0, 'w': 0, 'v': 0}\n"
     ]
    },
    {
     "ename": "KeyError",
     "evalue": "'audio1.wav'",
     "output_type": "error",
     "traceback": [
      "\u001b[1;31m---------------------------------------------------------------------------\u001b[0m",
      "\u001b[1;31mKeyError\u001b[0m                                  Traceback (most recent call last)",
      "\u001b[1;32m<ipython-input-58-5e5646e2528c>\u001b[0m in \u001b[0;36m<module>\u001b[1;34m\u001b[0m\n\u001b[0;32m      1\u001b[0m \u001b[0mms\u001b[0m \u001b[1;33m=\u001b[0m \u001b[0mMusicSearch\u001b[0m\u001b[1;33m(\u001b[0m\u001b[0mtraining_files\u001b[0m\u001b[1;33m)\u001b[0m\u001b[1;33m\u001b[0m\u001b[1;33m\u001b[0m\u001b[0m\n\u001b[1;32m----> 2\u001b[1;33m \u001b[0mms\u001b[0m\u001b[1;33m.\u001b[0m\u001b[0mtrain\u001b[0m\u001b[1;33m(\u001b[0m\u001b[1;33m)\u001b[0m\u001b[1;33m\u001b[0m\u001b[1;33m\u001b[0m\u001b[0m\n\u001b[0m\u001b[0;32m      3\u001b[0m \u001b[1;31m# print(ms.num_features_in_file)\u001b[0m\u001b[1;33m\u001b[0m\u001b[1;33m\u001b[0m\u001b[1;33m\u001b[0m\u001b[0m\n",
      "\u001b[1;32m<ipython-input-57-4dea3eaf2443>\u001b[0m in \u001b[0;36mtrain\u001b[1;34m(self)\u001b[0m\n\u001b[0;32m     19\u001b[0m         \u001b[0mprint\u001b[0m\u001b[1;33m(\u001b[0m\u001b[0mself\u001b[0m\u001b[1;33m.\u001b[0m\u001b[0mnum_features_in_file\u001b[0m\u001b[1;33m)\u001b[0m\u001b[1;33m\u001b[0m\u001b[1;33m\u001b[0m\u001b[0m\n\u001b[0;32m     20\u001b[0m         \u001b[0mself\u001b[0m\u001b[1;33m.\u001b[0m\u001b[0mlsh\u001b[0m\u001b[1;33m.\u001b[0m\u001b[0madd\u001b[0m\u001b[1;33m(\u001b[0m\u001b[0mfeatures\u001b[0m\u001b[1;33m,\u001b[0m \u001b[0mfilepath\u001b[0m\u001b[1;33m)\u001b[0m\u001b[1;33m\u001b[0m\u001b[1;33m\u001b[0m\u001b[0m\n\u001b[1;32m---> 21\u001b[1;33m         \u001b[0mself\u001b[0m\u001b[1;33m.\u001b[0m\u001b[0mnum_features_in_file\u001b[0m\u001b[1;33m[\u001b[0m\u001b[0mfilepath\u001b[0m\u001b[1;33m]\u001b[0m \u001b[1;33m+=\u001b[0m \u001b[0mlen\u001b[0m\u001b[1;33m(\u001b[0m\u001b[0mfeatures\u001b[0m\u001b[1;33m)\u001b[0m\u001b[1;33m\u001b[0m\u001b[1;33m\u001b[0m\u001b[0m\n\u001b[0m\u001b[0;32m     22\u001b[0m \u001b[1;33m\u001b[0m\u001b[0m\n\u001b[0;32m     23\u001b[0m     \u001b[1;32mdef\u001b[0m \u001b[0mquery\u001b[0m\u001b[1;33m(\u001b[0m\u001b[0mself\u001b[0m\u001b[1;33m,\u001b[0m \u001b[0mfilepath\u001b[0m\u001b[1;33m)\u001b[0m\u001b[1;33m:\u001b[0m\u001b[1;33m\u001b[0m\u001b[1;33m\u001b[0m\u001b[0m\n",
      "\u001b[1;31mKeyError\u001b[0m: 'audio1.wav'"
     ]
    }
   ],
   "source": [
    "ms = MusicSearch(training_files)\n",
    "ms.train()\n",
    "# print(ms.num_features_in_file)"
   ]
  },
  {
   "cell_type": "markdown",
   "metadata": {},
   "source": [
    "Test:"
   ]
  },
  {
   "cell_type": "code",
   "execution_count": 39,
   "metadata": {},
   "outputs": [
    {
     "name": "stdout",
     "output_type": "stream",
     "text": [
      "num results 171464\n"
     ]
    }
   ],
   "source": [
    "test_file = '../test/brennan03.wav'\n",
    "results = ms.query(test_file)"
   ]
  },
  {
   "cell_type": "markdown",
   "metadata": {},
   "source": [
    "Display the results:"
   ]
  },
  {
   "cell_type": "code",
   "execution_count": 40,
   "metadata": {},
   "outputs": [
    {
     "name": "stdout",
     "output_type": "stream",
     "text": [
      "../train/lady_madonna_crop.wav 64.2857142857\n",
      "../train/lady_madonna.wav 62.9397590361\n",
      "../train/brandenburg3_01.wav 57.91\n",
      "../train/brahms_s1_1_perlman_02.wav 50.6964285714\n",
      "../train/dont_stop_believin.wav 46.626984127\n",
      "../train/konstantine.wav 45.0076335878\n",
      "../train/Beethoven_vln_sonata5_Francescatti_01.wav 43.7115384615\n",
      "../train/office_theme.wav 42.8313253012\n",
      "../train/brahms_s1_1_perlman_03.wav 42.0535714286\n",
      "../train/bach_s3_3_szeryng_01.wav 41.8928571429\n",
      "../train/bach_p3_1_heifetz_01.wav 40.125\n",
      "../train/Beethoven_vln_sonata5_Zukerman_01.wav 40.0377358491\n",
      "../train/bach_p3_1_perlman_01.wav 39.6964285714\n",
      "../train/brahms_s1_1_perlman_05.wav 37.6785714286\n",
      "../train/brahms_s1_1_perlman_04.wav 37.4107142857\n",
      "../train/brahms_rhapsody_02.wav 37.2\n",
      "../train/Bach Vln Partita3 - Milstein 1955 - 03.wav 37.1609195402\n",
      "../train/brahms_rhapsody_01.wav 36.578313253\n",
      "../train/Beethoven_vln_sonata5_Zukerman_04.wav 36.0344827586\n",
      "../train/bach_s3_3_szeryng_05.wav 35.8214285714\n",
      "../train/bach_p3_1_heifetz_04.wav 34.3392857143\n",
      "../train/Beethoven_vln_sonata5_Zukerman_02.wav 33.8208955224\n",
      "../train/bach_p3_1_heifetz_02.wav 33.2321428571\n",
      "../train/Beethoven_vln_sonata5_Francescatti_05.wav 33.0862068966\n",
      "../train/bach_p3_1_heifetz_05.wav 32.8928571429\n",
      "../train/Bach Vln Partita3 - Fischbach 2004 - 03.wav 32.6033519553\n",
      "../train/Beethoven_vln_sonata5_Oistrakh_01.wav 32.4561403509\n",
      "../train/Beethoven_vln_sonata5_Francescatti_02.wav 31.546875\n",
      "../train/Beethoven_vln_sonata5_Oistrakh_04.wav 31.3928571429\n",
      "../train/Beethoven_vln_sonata5_Francescatti_03.wav 31.0\n",
      "../train/Beethoven_vln_sonata5_Zukerman_03.wav 30.4166666667\n",
      "../train/moonlight.wav 30.36\n",
      "../train/Beethoven_vln_sonata5_Francescatti_04.wav 29.641509434\n",
      "../train/bach_s3_3_szeryng_02.wav 29.0892857143\n",
      "../train/Bach Vln Partita3 - Milstein 1955 - 01.wav 28.8102564103\n",
      "../train/Bach Vln Partita3 - Fischbach 2004 - 01.wav 28.6977777778\n",
      "../train/bach_p3_1_perlman_02.wav 28.4285714286\n",
      "../train/Beethoven_vln_sonata5_Oistrakh_05.wav 28.3181818182\n",
      "../train/Beethoven_vln_sonata5_Zukerman_05.wav 26.6666666667\n",
      "../train/bach_s3_3_szeryng_04.wav 26.5535714286\n",
      "../train/Beethoven_vln_sonata5_Oistrakh_02.wav 26.4444444444\n",
      "../train/bach_p3_1_perlman_05.wav 26.4107142857\n",
      "../train/bach_p3_1_perlman_06.wav 26.0\n",
      "../train/bach_p3_1_perlman_04.wav 25.6428571429\n",
      "../train/bach_p3_1_heifetz_03.wav 25.3928571429\n",
      "../train/bach_p3_1_perlman_03.wav 24.9464285714\n",
      "../train/brahms_s1_1_perlman_01.wav 24.6785714286\n",
      "../train/bach_s3_3_szeryng_03.wav 23.7678571429\n",
      "../train/bach_s3_3_szeryng_06.wav 23.5178571429\n",
      "../train/Bach Vln Sonata1 - Fischbach 2004 - 02.wav 23.4891774892\n",
      "../train/Beethoven_vln_sonata5_Oistrakh_03.wav 23.0909090909\n",
      "../train/Bach Vln Sonata1 - Milstein 1954 - 02.wav 22.6527777778\n",
      "../train/brahms_s1_1_perlman_06.wav 17.8035714286\n"
     ]
    }
   ],
   "source": [
    "for r in sorted(results, key=results.get, reverse=True):\n",
    "    print(r, results[r])"
   ]
  },
  {
   "cell_type": "code",
   "execution_count": 15,
   "metadata": {},
   "outputs": [
    {
     "data": {
      "text/plain": [
       "<_io.BufferedRandom name='audio1.wav'>"
      ]
     },
     "execution_count": 15,
     "metadata": {},
     "output_type": "execute_result"
    }
   ],
   "source": [
    "from pydub import AudioSegment\n",
    "\n",
    "wav_audio = AudioSegment.from_file(\"D:/Google Drive/Data Mining/songs/10000HoursCover_-JungkookBTS_.m4a\", format=\"m4a\")\n",
    "# raw_audio = AudioSegment.from_file(\"audio.wav\", format=\"raw\",\n",
    "#                                    frame_rate=44100, channels=2, sample_width=2)\n",
    "\n",
    "wav_audio.export(\"audio1.wav\", format=\"wav\")\n",
    "# raw_audio.export(\"audio2.mp3\", format=\"mp3\")"
   ]
  },
  {
   "cell_type": "code",
   "execution_count": null,
   "metadata": {},
   "outputs": [],
   "source": []
  }
 ],
 "metadata": {
  "kernelspec": {
   "display_name": "Python 3",
   "language": "python",
   "name": "python3"
  },
  "language_info": {
   "codemirror_mode": {
    "name": "ipython",
    "version": 3
   },
   "file_extension": ".py",
   "mimetype": "text/x-python",
   "name": "python",
   "nbconvert_exporter": "python",
   "pygments_lexer": "ipython3",
   "version": "3.7.7"
  }
 },
 "nbformat": 4,
 "nbformat_minor": 4
}
