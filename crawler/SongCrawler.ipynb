{
 "cells": [
  {
   "cell_type": "markdown",
   "id": "b05598fe",
   "metadata": {},
   "source": [
    "Notebook này dùng ds101 là đủ\n",
    "\n",
    "Dự kiến sẽ viết thành .py\n",
    "\n",
    "TODO:\n",
    "- Viết hàm download\n",
    "- Xử lí Duplicate (có thể dùng pandas)"
   ]
  },
  {
   "cell_type": "code",
   "execution_count": 1,
   "id": "720e83bd",
   "metadata": {},
   "outputs": [],
   "source": [
    "import numpy as np\n",
    "import pandas as pd\n",
    "from bs4 import BeautifulSoup\n",
    "from selenium import webdriver\n",
    "import urllib3\n",
    "import os\n",
    "import time\n",
    "import requests\n",
    "from pathlib import Path"
   ]
  },
  {
   "cell_type": "code",
   "execution_count": 58,
   "id": "8600499d",
   "metadata": {},
   "outputs": [],
   "source": [
    "#download link using requests\n",
    "def downloadSong(save_location, url_list, delay=5, last_index=0):\n",
    "    success = 0\n",
    "    duplicates = 0\n",
    "    for link in url_list:\n",
    "        file_name = link.split('/')[-1].replace(\"%20\",\"\")\n",
    "\n",
    "        #print(\"Downloading file:%s\"%file_name)  \n",
    "        r = requests.get(link, stream = True)  \n",
    "\n",
    "        #check if file is exist\n",
    "        if(Path(save_location+file_name).is_file()):\n",
    "            #print(\"Song is already exist\")\n",
    "            duplicates += 1\n",
    "        else:\n",
    "            # download started  \n",
    "            with open(save_location+file_name, 'wb') as f:  \n",
    "                for chunk in r.iter_content(chunk_size = 1024*1024):  \n",
    "                    if chunk:  \n",
    "                        f.write(chunk)\n",
    "            #print(\"%s downloaded!\\n\"%file_name)\n",
    "            success += 1\n",
    "        time.sleep(delay)\n",
    "\n",
    "    print(\"Success: {}/{}\".format(success,len(url_list)))\n",
    "    print(\"Duplicate: {}/{}\".format(duplicates,len(url_list)))"
   ]
  },
  {
   "cell_type": "code",
   "execution_count": 4,
   "id": "39158838",
   "metadata": {},
   "outputs": [],
   "source": [
    "def getSongLinks(country, tab, start_page=1, end_page=20):\n",
    "    '''\n",
    "    Trả về danh sách link tới các bài hát cụ thể để nghe nhạc.\n",
    "    \n",
    "    Tham số:\n",
    "        @country: Thể loại nhạc theo tên quốc gia\n",
    "        @tab: Tab của trang web: album-2021, album-moi, bai-hat-moi, vua-download\n",
    "        @start_page: Giới hạn bên trái của trang thể hiện bài hát (def=1)\n",
    "        @end_page: Giới hạn bên phải của trang thể hiện bài hát (def=20)\n",
    "    \n",
    "    Lưu ý:\n",
    "        Với mỗi tab `vua-download` và `bai-hat-moi`\n",
    "        sẽ chỉ crawl được trang thuộc [1; 19].\n",
    "        Trang 19+ không crawl được, đừng để bị số lượng trang lừa ¯_(ツ)_/¯\n",
    "    \n",
    "    '''\n",
    "    driver = webdriver.Chrome(\"chromedriver_win32/chromedriver\") #\n",
    "    URL = \"https://www.chiasenhac.vn/mp3/\" + country + \".html?tab=\" + tab\n",
    "    arr = np.arange(start_page, end_page)\n",
    "    save_path = 'data/'\n",
    "    link_list = []\n",
    "\n",
    "    for i in arr:\n",
    "        driver.get(URL + \"&page=\" + str(i))\n",
    "        main = driver.find_element_by_class_name('content-current')\n",
    "        songs = main.find_elements_by_css_selector('.media.align-items-stretch.not')\n",
    "        for song in songs:\n",
    "            a = song.find_element_by_tag_name(\"a\")\n",
    "            link = a.get_attribute(\"href\")\n",
    "            link_list.append(link)\n",
    "\n",
    "    driver.close()\n",
    "    return link_list"
   ]
  },
  {
   "cell_type": "code",
   "execution_count": 36,
   "id": "aa8addd8",
   "metadata": {},
   "outputs": [],
   "source": [
    "def getSongInfo(link_list):\n",
    "    '''\n",
    "    Trả về DataFrame danh sách các bài hát:\n",
    "    1. Title\n",
    "    2. Artist\n",
    "    3. Link bài hát\n",
    "    4. Link .m4a\n",
    "    5. Link .mp3\n",
    "    '''\n",
    "    df_headers = [\"Title\", \"Artist\", \"Link bài hát\", \"Link .m4a\", \"Link .mp3\"]\n",
    "    song_info_list = []\n",
    "    \n",
    "    for url in link_list:\n",
    "        page = requests.get(url)\n",
    "        soup = BeautifulSoup(page.content, 'html.parser')\n",
    "        # lấy Title và Artist\n",
    "        name = soup.find(class_=\"d-flex justify-content-between mb-3 box1 music-listen-title\")\n",
    "        if name is None:\n",
    "            print(\"error in finding name: \", url)\n",
    "            continue\n",
    "        name = name.h1.text.split(\" - \")\n",
    "        title = name[0]\n",
    "        artist = name[1]\n",
    "\n",
    "        # lấy link tải m4a và mp3\n",
    "        download_div = soup.find(id=\"pills-download\")\n",
    "        download_items = download_div.find_all(\"a\", class_=\"download_item\", href=True)\n",
    "        m4a_link = download_items[0]['href']\n",
    "        mp3_link = download_items[1]['href']\n",
    "\n",
    "        # Thêm bài hát vào danh sách\n",
    "        song_info_list.append((title, artist, url, m4a_link, mp3_link))\n",
    "        \n",
    "    return pd.DataFrame(song_info_list, columns=df_headers)"
   ]
  },
  {
   "cell_type": "markdown",
   "id": "2c079640",
   "metadata": {},
   "source": [
    "## Điều chỉnh thông số tại đây"
   ]
  },
  {
   "cell_type": "code",
   "execution_count": 46,
   "id": "22e12d63",
   "metadata": {},
   "outputs": [],
   "source": [
    "country = \"us-uk\"\n",
    "tab = \"bai-hat-moi\" # vua-download\n",
    "csv_path = \"data/{}_{}.csv\".format(country,tab)\n",
    "save_location = \"songs/\""
   ]
  },
  {
   "cell_type": "code",
   "execution_count": 47,
   "id": "9655e687",
   "metadata": {},
   "outputs": [],
   "source": [
    "# Lấy link\n",
    "link_list = getSongLinks(country, tab)"
   ]
  },
  {
   "cell_type": "code",
   "execution_count": 50,
   "id": "a3844faf",
   "metadata": {},
   "outputs": [
    {
     "name": "stdout",
     "output_type": "stream",
     "text": [
      "Số bài hát: 380\n"
     ]
    }
   ],
   "source": [
    "print(\"Số bài hát: \" + str(len(link_list)))"
   ]
  },
  {
   "cell_type": "code",
   "execution_count": 51,
   "id": "3778cd74",
   "metadata": {},
   "outputs": [],
   "source": [
    "# Trích xuất info thanh dataframe\n",
    "df = getSongInfo(link_list)"
   ]
  },
  {
   "cell_type": "code",
   "execution_count": 52,
   "id": "6d89c6cb",
   "metadata": {},
   "outputs": [
    {
     "name": "stdout",
     "output_type": "stream",
     "text": [
      "<class 'pandas.core.frame.DataFrame'>\n",
      "RangeIndex: 380 entries, 0 to 379\n",
      "Data columns (total 5 columns):\n",
      " #   Column        Non-Null Count  Dtype \n",
      "---  ------        --------------  ----- \n",
      " 0   Title         380 non-null    object\n",
      " 1   Artist        380 non-null    object\n",
      " 2   Link bài hát  380 non-null    object\n",
      " 3   Link .m4a     380 non-null    object\n",
      " 4   Link .mp3     380 non-null    object\n",
      "dtypes: object(5)\n",
      "memory usage: 15.0+ KB\n"
     ]
    }
   ],
   "source": [
    "df.info()"
   ]
  },
  {
   "cell_type": "code",
   "execution_count": 53,
   "id": "11ec5054",
   "metadata": {},
   "outputs": [],
   "source": [
    "# Xóa phần tử trùng theo: Title && Artist\n",
    "df_new = df.drop_duplicates(subset=[\"Title\",\"Artist\"])"
   ]
  },
  {
   "cell_type": "code",
   "execution_count": 54,
   "id": "0f3c12e1",
   "metadata": {},
   "outputs": [
    {
     "name": "stdout",
     "output_type": "stream",
     "text": [
      "<class 'pandas.core.frame.DataFrame'>\n",
      "Int64Index: 377 entries, 0 to 379\n",
      "Data columns (total 5 columns):\n",
      " #   Column        Non-Null Count  Dtype \n",
      "---  ------        --------------  ----- \n",
      " 0   Title         377 non-null    object\n",
      " 1   Artist        377 non-null    object\n",
      " 2   Link bài hát  377 non-null    object\n",
      " 3   Link .m4a     377 non-null    object\n",
      " 4   Link .mp3     377 non-null    object\n",
      "dtypes: object(5)\n",
      "memory usage: 17.7+ KB\n"
     ]
    }
   ],
   "source": [
    "df_new.info()"
   ]
  },
  {
   "cell_type": "code",
   "execution_count": 55,
   "id": "3721ebc5",
   "metadata": {},
   "outputs": [],
   "source": [
    "# Viết info vào trong .csv ('w': overwrite, 'a': append)\n",
    "df_new.to_csv(csv_path, index=False, mode='w')"
   ]
  },
  {
   "cell_type": "code",
   "execution_count": 56,
   "id": "ca16238b",
   "metadata": {},
   "outputs": [],
   "source": [
    "url_list = pd.read_csv(csv_path)[\"Link .m4a\"]"
   ]
  },
  {
   "cell_type": "code",
   "execution_count": null,
   "id": "1b730315",
   "metadata": {},
   "outputs": [],
   "source": [
    "downloadSong(save_location, url_list)"
   ]
  },
  {
   "cell_type": "code",
   "execution_count": null,
   "id": "1faa1363",
   "metadata": {},
   "outputs": [],
   "source": []
  },
  {
   "cell_type": "code",
   "execution_count": 24,
   "id": "d96dd5cc",
   "metadata": {},
   "outputs": [],
   "source": [
    "df = pd.DataFrame(link_list, columns=[\"Link bài hát\"])"
   ]
  },
  {
   "cell_type": "code",
   "execution_count": 35,
   "id": "2da0b18f",
   "metadata": {},
   "outputs": [],
   "source": [
    "df.drop([index for index in range(0,11)], inplace=True)"
   ]
  },
  {
   "cell_type": "code",
   "execution_count": 27,
   "id": "3bba0e16",
   "metadata": {},
   "outputs": [],
   "source": [
    "df_usuk = pd.read_csv(\"data/us-uk_bai-hat-moi.csv\", usecols=[\"Link bài hát\"])"
   ]
  },
  {
   "cell_type": "code",
   "execution_count": 15,
   "id": "dff59dad",
   "metadata": {},
   "outputs": [],
   "source": [
    "df = df.append(df_usuk).drop_duplicates()"
   ]
  },
  {
   "cell_type": "code",
   "execution_count": 18,
   "id": "13135128",
   "metadata": {},
   "outputs": [
    {
     "name": "stdout",
     "output_type": "stream",
     "text": [
      "<class 'pandas.core.frame.DataFrame'>\n",
      "Int64Index: 759 entries, 0 to 378\n",
      "Data columns (total 1 columns):\n",
      " #   Column        Non-Null Count  Dtype \n",
      "---  ------        --------------  ----- \n",
      " 0   Link bài hát  759 non-null    object\n",
      "dtypes: object(1)\n",
      "memory usage: 11.9+ KB\n"
     ]
    }
   ],
   "source": [
    "df.info()"
   ]
  },
  {
   "cell_type": "code",
   "execution_count": 30,
   "id": "1d9c54fe",
   "metadata": {},
   "outputs": [],
   "source": [
    "link_list = df_usuk[\"Link bài hát\"].tolist()"
   ]
  },
  {
   "cell_type": "code",
   "execution_count": null,
   "id": "97f03a03",
   "metadata": {},
   "outputs": [],
   "source": [
    "link_list"
   ]
  },
  {
   "cell_type": "code",
   "execution_count": null,
   "id": "c7ee3a1f",
   "metadata": {},
   "outputs": [],
   "source": [
    "for i in range(len(url_list)):\n",
    "    print(i/len(url_list)*100,\" percent complete         \\r\",)"
   ]
  },
  {
   "cell_type": "code",
   "execution_count": 34,
   "id": "992e7211",
   "metadata": {},
   "outputs": [],
   "source": [
    "url = link_list[0]\n",
    "\n",
    "page = requests.get(url)\n",
    "soup = BeautifulSoup(page.content, 'html.parser')\n",
    "# lấy Title và Artist\n",
    "name = soup.find(class_=\"d-flex justify-content-between mb-3 box1 music-listen-title\")\n",
    "name = name.h1.text.split(\" - \")\n",
    "title = name[0]\n",
    "artist = name[1]"
   ]
  },
  {
   "cell_type": "code",
   "execution_count": 35,
   "id": "8f700f27",
   "metadata": {},
   "outputs": [
    {
     "data": {
      "text/plain": [
       "['Get Back (Extended Mix)', 'Breathe Carolina; SMACK; TITUS']"
      ]
     },
     "execution_count": 35,
     "metadata": {},
     "output_type": "execute_result"
    }
   ],
   "source": [
    "name"
   ]
  },
  {
   "cell_type": "code",
   "execution_count": null,
   "id": "401d5b05",
   "metadata": {},
   "outputs": [],
   "source": []
  }
 ],
 "metadata": {
  "kernelspec": {
   "display_name": "Python 3",
   "language": "python",
   "name": "python3"
  },
  "language_info": {
   "codemirror_mode": {
    "name": "ipython",
    "version": 3
   },
   "file_extension": ".py",
   "mimetype": "text/x-python",
   "name": "python",
   "nbconvert_exporter": "python",
   "pygments_lexer": "ipython3",
   "version": "3.7.7"
  }
 },
 "nbformat": 4,
 "nbformat_minor": 5
}
