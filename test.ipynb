{
 "cells": [
  {
   "cell_type": "code",
   "execution_count": 1,
   "id": "vital-shopper",
   "metadata": {},
   "outputs": [],
   "source": [
    "import librosa\n",
    "import os\n",
    "import os.path\n",
    "import matplotlib.pyplot as plt\n",
    "import matplotlib\n",
    "import numpy as np"
   ]
  },
  {
   "cell_type": "code",
   "execution_count": 2,
   "id": "anonymous-boulder",
   "metadata": {},
   "outputs": [],
   "source": [
    "matplotlib.rcParams['figure.figsize'] = (15, 5)"
   ]
  },
  {
   "cell_type": "code",
   "execution_count": 3,
   "id": "endless-marshall",
   "metadata": {},
   "outputs": [],
   "source": [
    "training_dir = 'D:/songs/'\n",
    "training_files = [os.path.join(training_dir, f) for f in os.listdir(training_dir)]"
   ]
  },
  {
   "cell_type": "code",
   "execution_count": 4,
   "id": "academic-stage",
   "metadata": {},
   "outputs": [
    {
     "name": "stdout",
     "output_type": "stream",
     "text": [
      "['D:/songs/AiNo1-MasewKhoiVu-7078913.mp3', 'D:/songs/test.mp3']\n"
     ]
    }
   ],
   "source": [
    "print(training_files)"
   ]
  },
  {
   "cell_type": "code",
   "execution_count": 5,
   "id": "textile-cosmetic",
   "metadata": {},
   "outputs": [],
   "source": [
    "def hash_func(vecs, projections):\n",
    "    bools = np.dot(vecs, projections.T) > 0\n",
    "    return [bool2int(bool_vec) for bool_vec in bools]"
   ]
  },
  {
   "cell_type": "code",
   "execution_count": 6,
   "id": "ruled-things",
   "metadata": {},
   "outputs": [],
   "source": [
    "def bool2int(x):\n",
    "    y = 0\n",
    "    for i,j in enumerate(x):\n",
    "        if j: y += 1<<i\n",
    "    return y"
   ]
  },
  {
   "cell_type": "code",
   "execution_count": 7,
   "id": "separated-movie",
   "metadata": {},
   "outputs": [
    {
     "data": {
      "text/plain": [
       "10"
      ]
     },
     "execution_count": 7,
     "metadata": {},
     "output_type": "execute_result"
    }
   ],
   "source": [
    "bool2int([False, True, False, True])"
   ]
  },
  {
   "cell_type": "code",
   "execution_count": 8,
   "id": "abroad-compound",
   "metadata": {},
   "outputs": [
    {
     "data": {
      "text/plain": [
       "[2, 3, 2, 0, 4, 7, 7, 5, 4, 3]"
      ]
     },
     "execution_count": 8,
     "metadata": {},
     "output_type": "execute_result"
    }
   ],
   "source": [
    "X = np.random.randn(10,100)\n",
    "P = np.random.randn(3,100)\n",
    "hash_func(X, P)"
   ]
  },
  {
   "cell_type": "code",
   "execution_count": 9,
   "id": "mathematical-sacramento",
   "metadata": {},
   "outputs": [],
   "source": [
    "class Table:\n",
    "    def __init__(self, hash_size, dim):\n",
    "        self.table = dict()\n",
    "        self.hash_size = hash_size\n",
    "        self.projections =  np.random.randn(self.hash_size, dim)\n",
    "\n",
    "    def add(self, vecs, label):\n",
    "        entry = {'label': label}\n",
    "        hashes = hash_func(vecs, self.projections)\n",
    "        for h in hashes:\n",
    "            if self.table.__contains__(h):\n",
    "                self.table[h].append(entry)\n",
    "            else:\n",
    "                self.table[h] = [entry]\n",
    "\n",
    "    def query(self, vecs):\n",
    "        hashes = hash_func(vecs, self.projections)\n",
    "        results = list()\n",
    "        for h in hashes:\n",
    "            if self.table.__contains__(h):\n",
    "                results.extend(self.table[h])\n",
    "        return results"
   ]
  },
  {
   "cell_type": "code",
   "execution_count": 10,
   "id": "marine-tolerance",
   "metadata": {},
   "outputs": [],
   "source": [
    "class LSH:\n",
    "    def __init__(self, dim):\n",
    "        self.num_tables = 4\n",
    "        self.hash_size = 8\n",
    "        self.tables = list()\n",
    "        for i in range(self.num_tables):\n",
    "            self.tables.append(Table(self.hash_size, dim))\n",
    "    \n",
    "    def add(self, vecs, label):\n",
    "        for table in self.tables:\n",
    "            table.add(vecs, label)\n",
    "    \n",
    "    def query(self, vecs):\n",
    "        results = list()\n",
    "        for table in self.tables:\n",
    "            results.extend(table.query(vecs))\n",
    "        return results\n",
    "\n",
    "    def describe(self):\n",
    "        for table in self.tables:\n",
    "            print(table.table)"
   ]
  },
  {
   "cell_type": "code",
   "execution_count": 11,
   "id": "innocent-singles",
   "metadata": {},
   "outputs": [],
   "source": [
    "class MusicSearch:\n",
    "    \n",
    "    def __init__(self, training_files):\n",
    "        self.frame_size = 4096\n",
    "        self.hop_size = 4000\n",
    "        self.fv_size = 12\n",
    "        self.lsh = LSH(self.fv_size)\n",
    "        self.training_files = training_files\n",
    "        self.num_features_in_file = dict()\n",
    "        for f in self.training_files:\n",
    "            self.num_features_in_file[f] = 0\n",
    "                \n",
    "    def train(self):\n",
    "        for filepath in self.training_files:\n",
    "            x, fs = librosa.load(filepath)\n",
    "            features = librosa.feature.chroma_stft(x, fs, n_fft=self.frame_size, hop_length=self.hop_size).T\n",
    "            self.lsh.add(features, filepath)\n",
    "            self.num_features_in_file[filepath] += len(features)\n",
    "                \n",
    "    def query(self, filepath):\n",
    "        x, fs = librosa.load(filepath)\n",
    "        features = librosa.feature.chroma_stft(x, fs, n_fft=self.frame_size, hop_length=self.hop_size).T\n",
    "        results = self.lsh.query(features)\n",
    "        print('num results '+ str(len(results)))\n",
    "\n",
    "        counts = dict()\n",
    "        for r in results:\n",
    "            if counts.__contains__(r['label']):\n",
    "                counts[r['label']] += 1\n",
    "            else:\n",
    "                counts[r['label']] = 1\n",
    "        for k in counts:\n",
    "            counts[k] = float(counts[k])/self.num_features_in_file[k]\n",
    "        return counts"
   ]
  },
  {
   "cell_type": "code",
   "execution_count": 12,
   "id": "bright-stockholm",
   "metadata": {
    "scrolled": true
   },
   "outputs": [
    {
     "name": "stderr",
     "output_type": "stream",
     "text": [
      "E:\\envs\\hand-on\\lib\\site-packages\\librosa\\core\\audio.py:162: UserWarning: PySoundFile failed. Trying audioread instead.\n",
      "  warnings.warn(\"PySoundFile failed. Trying audioread instead.\")\n",
      "E:\\envs\\hand-on\\lib\\site-packages\\librosa\\core\\audio.py:162: UserWarning: PySoundFile failed. Trying audioread instead.\n",
      "  warnings.warn(\"PySoundFile failed. Trying audioread instead.\")\n"
     ]
    }
   ],
   "source": [
    "ms = MusicSearch(training_files)\n",
    "ms.train()"
   ]
  },
  {
   "cell_type": "code",
   "execution_count": 13,
   "id": "resistant-spouse",
   "metadata": {},
   "outputs": [
    {
     "name": "stdout",
     "output_type": "stream",
     "text": [
      "num results 1342917\n"
     ]
    }
   ],
   "source": [
    "test_file = 'D:/songs/test.mp3'\n",
    "results = ms.query(test_file)"
   ]
  },
  {
   "cell_type": "code",
   "execution_count": 15,
   "id": "absolute-avenue",
   "metadata": {},
   "outputs": [
    {
     "name": "stdout",
     "output_type": "stream",
     "text": [
      "D:/songs/test.mp3 551.6234906695938\n",
      "D:/songs/AiNo1-MasewKhoiVu-7078913.mp3 305.20234869015354\n"
     ]
    }
   ],
   "source": [
    "for r in sorted(results, key=results.get, reverse=True):\n",
    "    print(r, results[r])"
   ]
  }
 ],
 "metadata": {
  "kernelspec": {
   "display_name": "Python 3",
   "language": "python",
   "name": "python3"
  },
  "language_info": {
   "codemirror_mode": {
    "name": "ipython",
    "version": 3
   },
   "file_extension": ".py",
   "mimetype": "text/x-python",
   "name": "python",
   "nbconvert_exporter": "python",
   "pygments_lexer": "ipython3",
   "version": "3.7.10"
  }
 },
 "nbformat": 4,
 "nbformat_minor": 5
}
