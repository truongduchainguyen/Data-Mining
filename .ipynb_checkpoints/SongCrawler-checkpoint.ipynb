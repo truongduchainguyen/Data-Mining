{
 "cells": [
  {
   "cell_type": "markdown",
   "id": "65556970",
   "metadata": {},
   "source": [
    "Notebook này dùng ds101 là đủ\n",
    "\n",
    "Dự kiến sẽ viết thành .py\n",
    "\n",
    "TODO:\n",
    "- Viết hàm download\n",
    "- Xử lí Duplicate (có thể dùng pandas)"
   ]
  },
  {
   "cell_type": "code",
   "execution_count": 1,
   "id": "af61d6ac",
   "metadata": {},
   "outputs": [],
   "source": [
    "import numpy as np\n",
    "import pandas as pd\n",
    "from bs4 import BeautifulSoup\n",
    "from selenium import webdriver\n",
    "import urllib3\n",
    "import os\n",
    "import time\n",
    "import requests"
   ]
  },
  {
   "cell_type": "code",
   "execution_count": 2,
   "id": "72bffb9c",
   "metadata": {},
   "outputs": [],
   "source": [
    "def getSongLinks(country, tab, start_page=1, end_page=20):\n",
    "    '''\n",
    "    Trả về danh sách link tới các bài hát cụ thể để nghe nhạc.\n",
    "    \n",
    "    Tham số:\n",
    "        @country: Thể loại nhạc theo tên quốc gia\n",
    "        @tab: Tab của trang web: album-2021, album-moi, bai-hat-moi, vua-download\n",
    "        @start_page: Giới hạn bên trái của trang thể hiện bài hát (def=1)\n",
    "        @end_page: Giới hạn bên phải của trang thể hiện bài hát (def=20)\n",
    "    \n",
    "    Lưu ý:\n",
    "        Với mỗi tab `vua-download` và `bao-hat-moi`\n",
    "        sẽ chỉ crawl được trang thuộc [1; 19].\n",
    "        Trang 19+ không crawl được, đừng để bị số lượng trang lừa ¯_(ツ)_/¯\n",
    "    \n",
    "    '''\n",
    "    driver = webdriver.Chrome(\"chromedriver_win32/chromedriver\")\n",
    "    URL = \"https://www.chiasenhac.vn/mp3/\" + country + \".html?tab=\" + tab\n",
    "    arr = np.arange(start_page, end_page)\n",
    "    save_path = 'data/'\n",
    "    link_list = []\n",
    "\n",
    "    for i in arr:\n",
    "        driver.get(URL + \"&page=\" + str(i))\n",
    "        main = driver.find_element_by_class_name('content-current')\n",
    "        songs = main.find_elements_by_css_selector('.media.align-items-stretch.not')\n",
    "        for song in songs:\n",
    "            a = song.find_element_by_tag_name(\"a\")\n",
    "            link = a.get_attribute(\"href\")\n",
    "            link_list.append(link)\n",
    "\n",
    "    driver.close()\n",
    "    return link_list"
   ]
  },
  {
   "cell_type": "code",
   "execution_count": 40,
   "id": "ccaf3ea3",
   "metadata": {},
   "outputs": [],
   "source": [
    "def getSongInfo(link_list):\n",
    "    '''\n",
    "    Trả về DataFrame danh sách các bài hát:\n",
    "    1. Title\n",
    "    2. Artist\n",
    "    3. Link bài hát\n",
    "    4. Link .m4a\n",
    "    5. Link .mp3\n",
    "    '''\n",
    "    df_headers = [\"Title\", \"Artist\", \"Link bài hát\", \"Link .m4a\", \"Link .mp3\"]\n",
    "    song_info_list = []\n",
    "    \n",
    "    for url in link_list:\n",
    "        page = requests.get(url)\n",
    "        soup = BeautifulSoup(page.content, 'html.parser')\n",
    "        # lấy Title và Artist\n",
    "        name = soup.find(class_=\"d-flex justify-content-between mb-3 box1 music-listen-title\")\n",
    "        name = name.h1.text.split(\" - \")\n",
    "        title = name[0]\n",
    "        artist = name[1]\n",
    "\n",
    "        # lấy link tải m4a và mp3\n",
    "        download_div = soup.find(id=\"pills-download\")\n",
    "        download_items = download_div.find_all(\"a\", class_=\"download_item\", href=True)\n",
    "        m4a_link = download_items[0]['href']\n",
    "        mp3_link = download_items[1]['href']\n",
    "\n",
    "        # Thêm bài hát vào danh sách\n",
    "        song_info_list.append((title, artist, url, m4a_link, mp3_link))\n",
    "        \n",
    "    return pd.DataFrame(song_info_list, columns=df_headers)"
   ]
  },
  {
   "cell_type": "markdown",
   "id": "9c83e528",
   "metadata": {},
   "source": [
    "## Điều chỉnh thông số tại đây"
   ]
  },
  {
   "cell_type": "code",
   "execution_count": 62,
   "id": "5a6a91b5",
   "metadata": {},
   "outputs": [],
   "source": [
    "country = \"us-uk\"\n",
    "tab = \"bai-hat-moi\"\n",
    "csv_path = \"data/{}_{}.csv\".format(country,tab)"
   ]
  },
  {
   "cell_type": "code",
   "execution_count": 60,
   "id": "e252970c",
   "metadata": {},
   "outputs": [],
   "source": [
    "# Lấy link\n",
    "link_list = getSongLinks(country, tab)"
   ]
  },
  {
   "cell_type": "code",
   "execution_count": 64,
   "id": "f4379a20",
   "metadata": {},
   "outputs": [
    {
     "name": "stdout",
     "output_type": "stream",
     "text": [
      "Số bài hát: 380\n"
     ]
    }
   ],
   "source": [
    "print(\"Số bài hát: \" + str(len(link_list)))"
   ]
  },
  {
   "cell_type": "code",
   "execution_count": 65,
   "id": "0d80bdfa",
   "metadata": {},
   "outputs": [],
   "source": [
    "# Trích xuất info thanh dataframe\n",
    "df = getSongInfo(link_list)"
   ]
  },
  {
   "cell_type": "code",
   "execution_count": 66,
   "id": "91b0b47c",
   "metadata": {},
   "outputs": [
    {
     "name": "stdout",
     "output_type": "stream",
     "text": [
      "<class 'pandas.core.frame.DataFrame'>\n",
      "RangeIndex: 380 entries, 0 to 379\n",
      "Data columns (total 5 columns):\n",
      " #   Column        Non-Null Count  Dtype \n",
      "---  ------        --------------  ----- \n",
      " 0   Title         380 non-null    object\n",
      " 1   Artist        380 non-null    object\n",
      " 2   Link bài hát  380 non-null    object\n",
      " 3   Link .m4a     380 non-null    object\n",
      " 4   Link .mp3     380 non-null    object\n",
      "dtypes: object(5)\n",
      "memory usage: 15.0+ KB\n"
     ]
    }
   ],
   "source": [
    "df.info()"
   ]
  },
  {
   "cell_type": "code",
   "execution_count": 68,
   "id": "02e121a6",
   "metadata": {},
   "outputs": [],
   "source": [
    "# Xóa phần tử trùng theo: Title && Artist\n",
    "df_new = df.drop_duplicates(subset=[\"Title\",\"Artist\"])"
   ]
  },
  {
   "cell_type": "code",
   "execution_count": 69,
   "id": "9edeadda",
   "metadata": {},
   "outputs": [
    {
     "name": "stdout",
     "output_type": "stream",
     "text": [
      "<class 'pandas.core.frame.DataFrame'>\n",
      "Int64Index: 379 entries, 0 to 379\n",
      "Data columns (total 5 columns):\n",
      " #   Column        Non-Null Count  Dtype \n",
      "---  ------        --------------  ----- \n",
      " 0   Title         379 non-null    object\n",
      " 1   Artist        379 non-null    object\n",
      " 2   Link bài hát  379 non-null    object\n",
      " 3   Link .m4a     379 non-null    object\n",
      " 4   Link .mp3     379 non-null    object\n",
      "dtypes: object(5)\n",
      "memory usage: 17.8+ KB\n"
     ]
    }
   ],
   "source": [
    "df_new.info()"
   ]
  },
  {
   "cell_type": "code",
   "execution_count": 70,
   "id": "1606a83b",
   "metadata": {},
   "outputs": [],
   "source": [
    "# Viết info vào trong .csv ('w': overwrite, 'a': append)\n",
    "df_new.to_csv(csv_path, index=False, mode='w')"
   ]
  },
  {
   "cell_type": "code",
   "execution_count": 37,
   "id": "573e9051",
   "metadata": {},
   "outputs": [],
   "source": []
  },
  {
   "cell_type": "code",
   "execution_count": null,
   "id": "1f2f4a9d",
   "metadata": {},
   "outputs": [],
   "source": []
  }
 ],
 "metadata": {
  "kernelspec": {
   "display_name": "Python 3",
   "language": "python",
   "name": "python3"
  },
  "language_info": {
   "codemirror_mode": {
    "name": "ipython",
    "version": 3
   },
   "file_extension": ".py",
   "mimetype": "text/x-python",
   "name": "python",
   "nbconvert_exporter": "python",
   "pygments_lexer": "ipython3",
   "version": "3.7.7"
  }
 },
 "nbformat": 4,
 "nbformat_minor": 5
}
